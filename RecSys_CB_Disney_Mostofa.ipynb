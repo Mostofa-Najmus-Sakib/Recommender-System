{
  "nbformat": 4,
  "nbformat_minor": 0,
  "metadata": {
    "colab": {
      "name": "RecSys_CB_Disney_Mostofa.ipynb",
      "provenance": [],
      "include_colab_link": true
    },
    "kernelspec": {
      "name": "python3",
      "display_name": "Python 3"
    },
    "language_info": {
      "name": "python"
    }
  },
  "cells": [
    {
      "cell_type": "markdown",
      "metadata": {
        "id": "view-in-github",
        "colab_type": "text"
      },
      "source": [
        "<a href=\"https://colab.research.google.com/github/Mostofa-Najmus-Sakib/Recommender-System/blob/main/RecSys_CB_Disney_Mostofa.ipynb\" target=\"_parent\"><img src=\"https://colab.research.google.com/assets/colab-badge.svg\" alt=\"Open In Colab\"/></a>"
      ]
    },
    {
      "cell_type": "markdown",
      "metadata": {
        "id": "DXi7ANuf5LrS"
      },
      "source": [
        "Step by step details and context available at\n",
        "\n",
        "\n",
        "*  https://analyticsindiamag.com/how-to-build-a-content-based-movie-recommendation-system-in-python/\n",
        "*  https://medium.com/analytics-vidhya/content-based-recommender-systems-in-python-2b330e01eb80\n",
        " \n",
        " I mostly mixed and match to showcase how to build a simple content-based recommender from the ground up\n",
        "\n",
        "\n",
        "Dataset: Diseny Plus shows from Kaggle\n",
        "https://www.kaggle.com/unanimad/disney-plus-shows\n"
      ]
    },
    {
      "cell_type": "code",
      "metadata": {
        "colab": {
          "base_uri": "https://localhost:8080/"
        },
        "id": "gefbZvkSxegX",
        "outputId": "599bbd5e-1ab3-47a4-a008-9464d780626e"
      },
      "source": [
        "import warnings\n",
        "warnings.simplefilter('ignore')\n",
        "from google.colab import drive \n",
        "drive.mount('/content/drive')"
      ],
      "execution_count": 1,
      "outputs": [
        {
          "output_type": "stream",
          "name": "stdout",
          "text": [
            "Mounted at /content/drive\n"
          ]
        }
      ]
    },
    {
      "cell_type": "code",
      "metadata": {
        "colab": {
          "base_uri": "https://localhost:8080/"
        },
        "id": "ZfytFiJMxfyw",
        "outputId": "9dea8a21-5214-4e32-8a0e-e8ad7da8f95a"
      },
      "source": [
        "cd /content/drive/My\\ Drive/Boise \\Class \\Materials \\(CS)/CS \\537 \\- \\IR/Recommender_system/"
      ],
      "execution_count": 2,
      "outputs": [
        {
          "output_type": "stream",
          "name": "stdout",
          "text": [
            "/content/drive/My Drive/Boise Class Materials (CS)/CS 537 - IR/Recommender_system\n"
          ]
        }
      ]
    },
    {
      "cell_type": "code",
      "metadata": {
        "colab": {
          "base_uri": "https://localhost:8080/"
        },
        "id": "2KaLxmE92RV6",
        "outputId": "2b46ba15-526e-48a4-9209-8cea0d9ad862"
      },
      "source": [
        "#Load the full dataset\n",
        "import pandas as pd\n",
        "# from google.colab import files\n",
        "# uploaded = files.upload()\n",
        "\n",
        "df = pd.read_csv('disney_plus_shows.csv')\n",
        "\n",
        "print(df)\n"
      ],
      "execution_count": 3,
      "outputs": [
        {
          "output_type": "stream",
          "name": "stdout",
          "text": [
            "       imdb_id  ... imdb_votes\n",
            "0    tt0147800  ...    283,945\n",
            "1    tt7019028  ...        124\n",
            "2    tt0115433  ...     97,785\n",
            "3    tt0324941  ...      7,434\n",
            "4    tt0211181  ...     33,444\n",
            "..         ...  ...        ...\n",
            "987  tt3544734  ...      3,750\n",
            "988  tt0186726  ...      6,378\n",
            "989  tt0271271  ...      3,318\n",
            "990  tt0379060  ...      2,339\n",
            "991  tt2948356  ...    410,437\n",
            "\n",
            "[992 rows x 19 columns]\n"
          ]
        }
      ]
    },
    {
      "cell_type": "code",
      "metadata": {
        "colab": {
          "base_uri": "https://localhost:8080/"
        },
        "id": "f8evi8jJ8Avg",
        "outputId": "d6766b53-1e23-4b1f-c059-ab0c7118bc7e"
      },
      "source": [
        "#all the traits/data we could use to model items and therefore inform recommendation\n",
        "print(df.columns) "
      ],
      "execution_count": 4,
      "outputs": [
        {
          "output_type": "stream",
          "name": "stdout",
          "text": [
            "Index(['imdb_id', 'title', 'plot', 'type', 'rated', 'year', 'released_at',\n",
            "       'added_at', 'runtime', 'genre', 'director', 'writer', 'actors',\n",
            "       'language', 'country', 'awards', 'metascore', 'imdb_rating',\n",
            "       'imdb_votes'],\n",
            "      dtype='object')\n"
          ]
        }
      ]
    },
    {
      "cell_type": "code",
      "metadata": {
        "colab": {
          "base_uri": "https://localhost:8080/",
          "height": 201
        },
        "id": "bob7kRn38OCH",
        "outputId": "88f3f3be-48fd-435d-a47a-33b454e962ca"
      },
      "source": [
        "#let us start with the basics: title and content description\n",
        "df_content=df[['title', 'plot']]\n",
        "df_content.head()"
      ],
      "execution_count": 5,
      "outputs": [
        {
          "output_type": "execute_result",
          "data": {
            "text/html": [
              "<div>\n",
              "<style scoped>\n",
              "    .dataframe tbody tr th:only-of-type {\n",
              "        vertical-align: middle;\n",
              "    }\n",
              "\n",
              "    .dataframe tbody tr th {\n",
              "        vertical-align: top;\n",
              "    }\n",
              "\n",
              "    .dataframe thead th {\n",
              "        text-align: right;\n",
              "    }\n",
              "</style>\n",
              "<table border=\"1\" class=\"dataframe\">\n",
              "  <thead>\n",
              "    <tr style=\"text-align: right;\">\n",
              "      <th></th>\n",
              "      <th>title</th>\n",
              "      <th>plot</th>\n",
              "    </tr>\n",
              "  </thead>\n",
              "  <tbody>\n",
              "    <tr>\n",
              "      <th>0</th>\n",
              "      <td>10 Things I Hate About You</td>\n",
              "      <td>A pretty, popular teenager can't go out on a d...</td>\n",
              "    </tr>\n",
              "    <tr>\n",
              "      <th>1</th>\n",
              "      <td>101 Dalmatian Street</td>\n",
              "      <td>This series follows the lives of Delilah and D...</td>\n",
              "    </tr>\n",
              "    <tr>\n",
              "      <th>2</th>\n",
              "      <td>101 Dalmatians</td>\n",
              "      <td>An evil high-fashion designer plots to steal D...</td>\n",
              "    </tr>\n",
              "    <tr>\n",
              "      <th>3</th>\n",
              "      <td>101 Dalmatians 2: Patch's London Adventure</td>\n",
              "      <td>Being one of 101 takes its toll on Patch, who ...</td>\n",
              "    </tr>\n",
              "    <tr>\n",
              "      <th>4</th>\n",
              "      <td>102 Dalmatians</td>\n",
              "      <td>Cruella DeVil gets out of prison and goes afte...</td>\n",
              "    </tr>\n",
              "  </tbody>\n",
              "</table>\n",
              "</div>"
            ],
            "text/plain": [
              "                                        title                                               plot\n",
              "0                  10 Things I Hate About You  A pretty, popular teenager can't go out on a d...\n",
              "1                        101 Dalmatian Street  This series follows the lives of Delilah and D...\n",
              "2                              101 Dalmatians  An evil high-fashion designer plots to steal D...\n",
              "3  101 Dalmatians 2: Patch's London Adventure  Being one of 101 takes its toll on Patch, who ...\n",
              "4                              102 Dalmatians  Cruella DeVil gets out of prison and goes afte..."
            ]
          },
          "metadata": {},
          "execution_count": 5
        }
      ]
    },
    {
      "cell_type": "code",
      "metadata": {
        "colab": {
          "base_uri": "https://localhost:8080/",
          "height": 283
        },
        "id": "RE_lVAEVKoFz",
        "outputId": "5f7b6ad6-c271-4357-f2df-2c8ef81b9330"
      },
      "source": [
        "df.head()"
      ],
      "execution_count": 6,
      "outputs": [
        {
          "output_type": "execute_result",
          "data": {
            "text/html": [
              "<div>\n",
              "<style scoped>\n",
              "    .dataframe tbody tr th:only-of-type {\n",
              "        vertical-align: middle;\n",
              "    }\n",
              "\n",
              "    .dataframe tbody tr th {\n",
              "        vertical-align: top;\n",
              "    }\n",
              "\n",
              "    .dataframe thead th {\n",
              "        text-align: right;\n",
              "    }\n",
              "</style>\n",
              "<table border=\"1\" class=\"dataframe\">\n",
              "  <thead>\n",
              "    <tr style=\"text-align: right;\">\n",
              "      <th></th>\n",
              "      <th>imdb_id</th>\n",
              "      <th>title</th>\n",
              "      <th>plot</th>\n",
              "      <th>type</th>\n",
              "      <th>rated</th>\n",
              "      <th>year</th>\n",
              "      <th>released_at</th>\n",
              "      <th>added_at</th>\n",
              "      <th>runtime</th>\n",
              "      <th>genre</th>\n",
              "      <th>director</th>\n",
              "      <th>writer</th>\n",
              "      <th>actors</th>\n",
              "      <th>language</th>\n",
              "      <th>country</th>\n",
              "      <th>awards</th>\n",
              "      <th>metascore</th>\n",
              "      <th>imdb_rating</th>\n",
              "      <th>imdb_votes</th>\n",
              "    </tr>\n",
              "  </thead>\n",
              "  <tbody>\n",
              "    <tr>\n",
              "      <th>0</th>\n",
              "      <td>tt0147800</td>\n",
              "      <td>10 Things I Hate About You</td>\n",
              "      <td>A pretty, popular teenager can't go out on a d...</td>\n",
              "      <td>movie</td>\n",
              "      <td>PG-13</td>\n",
              "      <td>1999</td>\n",
              "      <td>31 Mar 1999</td>\n",
              "      <td>November 12, 2019</td>\n",
              "      <td>97 min</td>\n",
              "      <td>Comedy, Drama, Romance</td>\n",
              "      <td>Gil Junger</td>\n",
              "      <td>Karen McCullah, Kirsten Smith</td>\n",
              "      <td>Heath Ledger, Julia Stiles, Joseph Gordon-Levi...</td>\n",
              "      <td>English, French</td>\n",
              "      <td>USA</td>\n",
              "      <td>2 wins &amp; 13 nominations.</td>\n",
              "      <td>70.0</td>\n",
              "      <td>7.3</td>\n",
              "      <td>283,945</td>\n",
              "    </tr>\n",
              "    <tr>\n",
              "      <th>1</th>\n",
              "      <td>tt7019028</td>\n",
              "      <td>101 Dalmatian Street</td>\n",
              "      <td>This series follows the lives of Delilah and D...</td>\n",
              "      <td>series</td>\n",
              "      <td>NaN</td>\n",
              "      <td>2018–</td>\n",
              "      <td>25 Mar 2019</td>\n",
              "      <td>February 28, 2020</td>\n",
              "      <td>NaN</td>\n",
              "      <td>Animation, Comedy, Family</td>\n",
              "      <td>NaN</td>\n",
              "      <td>NaN</td>\n",
              "      <td>Josh Brener, Michaela Dietz, Bert Davis, Abiga...</td>\n",
              "      <td>English</td>\n",
              "      <td>UK, USA, Canada</td>\n",
              "      <td>NaN</td>\n",
              "      <td>NaN</td>\n",
              "      <td>6.2</td>\n",
              "      <td>124</td>\n",
              "    </tr>\n",
              "    <tr>\n",
              "      <th>2</th>\n",
              "      <td>tt0115433</td>\n",
              "      <td>101 Dalmatians</td>\n",
              "      <td>An evil high-fashion designer plots to steal D...</td>\n",
              "      <td>movie</td>\n",
              "      <td>G</td>\n",
              "      <td>1996</td>\n",
              "      <td>27 Nov 1996</td>\n",
              "      <td>November 12, 2019</td>\n",
              "      <td>103 min</td>\n",
              "      <td>Adventure, Comedy, Crime, Family</td>\n",
              "      <td>Stephen Herek</td>\n",
              "      <td>Dodie Smith (novel), John Hughes (screenplay)</td>\n",
              "      <td>Glenn Close, Jeff Daniels, Joely Richardson, J...</td>\n",
              "      <td>English, Spanish</td>\n",
              "      <td>USA, UK</td>\n",
              "      <td>Nominated for 1 Golden Globe. Another 3 wins &amp;...</td>\n",
              "      <td>49.0</td>\n",
              "      <td>5.7</td>\n",
              "      <td>97,785</td>\n",
              "    </tr>\n",
              "    <tr>\n",
              "      <th>3</th>\n",
              "      <td>tt0324941</td>\n",
              "      <td>101 Dalmatians 2: Patch's London Adventure</td>\n",
              "      <td>Being one of 101 takes its toll on Patch, who ...</td>\n",
              "      <td>movie</td>\n",
              "      <td>G</td>\n",
              "      <td>2002</td>\n",
              "      <td>21 Jan 2003</td>\n",
              "      <td>November 12, 2019</td>\n",
              "      <td>74 min</td>\n",
              "      <td>Animation, Adventure, Comedy, Family, Musical</td>\n",
              "      <td>Jim Kammerud, Brian Smith</td>\n",
              "      <td>Jim Kammerud (story), Dan Root (story), Garret...</td>\n",
              "      <td>Barry Bostwick, Jason Alexander, Martin Short,...</td>\n",
              "      <td>English</td>\n",
              "      <td>USA</td>\n",
              "      <td>5 wins &amp; 10 nominations.</td>\n",
              "      <td>NaN</td>\n",
              "      <td>5.8</td>\n",
              "      <td>7,434</td>\n",
              "    </tr>\n",
              "    <tr>\n",
              "      <th>4</th>\n",
              "      <td>tt0211181</td>\n",
              "      <td>102 Dalmatians</td>\n",
              "      <td>Cruella DeVil gets out of prison and goes afte...</td>\n",
              "      <td>movie</td>\n",
              "      <td>G</td>\n",
              "      <td>2000</td>\n",
              "      <td>22 Nov 2000</td>\n",
              "      <td>November 12, 2019</td>\n",
              "      <td>100 min</td>\n",
              "      <td>Adventure, Comedy, Family</td>\n",
              "      <td>Kevin Lima</td>\n",
              "      <td>Dodie Smith (novel), Kristen Buckley (story), ...</td>\n",
              "      <td>Glenn Close, Gérard Depardieu, Ioan Gruffudd, ...</td>\n",
              "      <td>English</td>\n",
              "      <td>USA, UK</td>\n",
              "      <td>Nominated for 1 Oscar. Another 1 win &amp; 7 nomin...</td>\n",
              "      <td>35.0</td>\n",
              "      <td>4.9</td>\n",
              "      <td>33,444</td>\n",
              "    </tr>\n",
              "  </tbody>\n",
              "</table>\n",
              "</div>"
            ],
            "text/plain": [
              "     imdb_id  ... imdb_votes\n",
              "0  tt0147800  ...    283,945\n",
              "1  tt7019028  ...        124\n",
              "2  tt0115433  ...     97,785\n",
              "3  tt0324941  ...      7,434\n",
              "4  tt0211181  ...     33,444\n",
              "\n",
              "[5 rows x 19 columns]"
            ]
          },
          "metadata": {},
          "execution_count": 6
        }
      ]
    },
    {
      "cell_type": "code",
      "metadata": {
        "id": "JrHxSK4xKZhE"
      },
      "source": [
        "df.dropna(subset = ['plot', 'imdb_rating'],inplace=True)"
      ],
      "execution_count": 7,
      "outputs": []
    },
    {
      "cell_type": "code",
      "metadata": {
        "colab": {
          "base_uri": "https://localhost:8080/"
        },
        "id": "w61-rKuw9ZKg",
        "outputId": "73858cd0-e810-4aa9-8d9c-49045f3e62e5"
      },
      "source": [
        "#We are removing rows with missing values. In designing your own recommender, there are other alterantives than just remove, depending on the algorithmic strategy you choose for recommendations.\n",
        "#Lack of full data representations for users and items if one of the main challenges recommenders have to face\n",
        "print(df.isnull().sum())\n",
        "#df.dropna(inplace=True)"
      ],
      "execution_count": 8,
      "outputs": [
        {
          "output_type": "stream",
          "name": "stdout",
          "text": [
            "imdb_id          0\n",
            "title            0\n",
            "plot             0\n",
            "type             0\n",
            "rated          122\n",
            "year             0\n",
            "released_at     14\n",
            "added_at         0\n",
            "runtime         38\n",
            "genre            3\n",
            "director       189\n",
            "writer         133\n",
            "actors          12\n",
            "language        18\n",
            "country         15\n",
            "awards         304\n",
            "metascore      567\n",
            "imdb_rating      0\n",
            "imdb_votes       0\n",
            "dtype: int64\n"
          ]
        }
      ]
    },
    {
      "cell_type": "code",
      "metadata": {
        "colab": {
          "base_uri": "https://localhost:8080/",
          "height": 283
        },
        "id": "4NLcliSz-cJo",
        "outputId": "271f0a5d-8362-4cb6-d0b6-8e623aabbac9"
      },
      "source": [
        "#What we have so far\n",
        "df.head()"
      ],
      "execution_count": 9,
      "outputs": [
        {
          "output_type": "execute_result",
          "data": {
            "text/html": [
              "<div>\n",
              "<style scoped>\n",
              "    .dataframe tbody tr th:only-of-type {\n",
              "        vertical-align: middle;\n",
              "    }\n",
              "\n",
              "    .dataframe tbody tr th {\n",
              "        vertical-align: top;\n",
              "    }\n",
              "\n",
              "    .dataframe thead th {\n",
              "        text-align: right;\n",
              "    }\n",
              "</style>\n",
              "<table border=\"1\" class=\"dataframe\">\n",
              "  <thead>\n",
              "    <tr style=\"text-align: right;\">\n",
              "      <th></th>\n",
              "      <th>imdb_id</th>\n",
              "      <th>title</th>\n",
              "      <th>plot</th>\n",
              "      <th>type</th>\n",
              "      <th>rated</th>\n",
              "      <th>year</th>\n",
              "      <th>released_at</th>\n",
              "      <th>added_at</th>\n",
              "      <th>runtime</th>\n",
              "      <th>genre</th>\n",
              "      <th>director</th>\n",
              "      <th>writer</th>\n",
              "      <th>actors</th>\n",
              "      <th>language</th>\n",
              "      <th>country</th>\n",
              "      <th>awards</th>\n",
              "      <th>metascore</th>\n",
              "      <th>imdb_rating</th>\n",
              "      <th>imdb_votes</th>\n",
              "    </tr>\n",
              "  </thead>\n",
              "  <tbody>\n",
              "    <tr>\n",
              "      <th>0</th>\n",
              "      <td>tt0147800</td>\n",
              "      <td>10 Things I Hate About You</td>\n",
              "      <td>A pretty, popular teenager can't go out on a d...</td>\n",
              "      <td>movie</td>\n",
              "      <td>PG-13</td>\n",
              "      <td>1999</td>\n",
              "      <td>31 Mar 1999</td>\n",
              "      <td>November 12, 2019</td>\n",
              "      <td>97 min</td>\n",
              "      <td>Comedy, Drama, Romance</td>\n",
              "      <td>Gil Junger</td>\n",
              "      <td>Karen McCullah, Kirsten Smith</td>\n",
              "      <td>Heath Ledger, Julia Stiles, Joseph Gordon-Levi...</td>\n",
              "      <td>English, French</td>\n",
              "      <td>USA</td>\n",
              "      <td>2 wins &amp; 13 nominations.</td>\n",
              "      <td>70.0</td>\n",
              "      <td>7.3</td>\n",
              "      <td>283,945</td>\n",
              "    </tr>\n",
              "    <tr>\n",
              "      <th>1</th>\n",
              "      <td>tt7019028</td>\n",
              "      <td>101 Dalmatian Street</td>\n",
              "      <td>This series follows the lives of Delilah and D...</td>\n",
              "      <td>series</td>\n",
              "      <td>NaN</td>\n",
              "      <td>2018–</td>\n",
              "      <td>25 Mar 2019</td>\n",
              "      <td>February 28, 2020</td>\n",
              "      <td>NaN</td>\n",
              "      <td>Animation, Comedy, Family</td>\n",
              "      <td>NaN</td>\n",
              "      <td>NaN</td>\n",
              "      <td>Josh Brener, Michaela Dietz, Bert Davis, Abiga...</td>\n",
              "      <td>English</td>\n",
              "      <td>UK, USA, Canada</td>\n",
              "      <td>NaN</td>\n",
              "      <td>NaN</td>\n",
              "      <td>6.2</td>\n",
              "      <td>124</td>\n",
              "    </tr>\n",
              "    <tr>\n",
              "      <th>2</th>\n",
              "      <td>tt0115433</td>\n",
              "      <td>101 Dalmatians</td>\n",
              "      <td>An evil high-fashion designer plots to steal D...</td>\n",
              "      <td>movie</td>\n",
              "      <td>G</td>\n",
              "      <td>1996</td>\n",
              "      <td>27 Nov 1996</td>\n",
              "      <td>November 12, 2019</td>\n",
              "      <td>103 min</td>\n",
              "      <td>Adventure, Comedy, Crime, Family</td>\n",
              "      <td>Stephen Herek</td>\n",
              "      <td>Dodie Smith (novel), John Hughes (screenplay)</td>\n",
              "      <td>Glenn Close, Jeff Daniels, Joely Richardson, J...</td>\n",
              "      <td>English, Spanish</td>\n",
              "      <td>USA, UK</td>\n",
              "      <td>Nominated for 1 Golden Globe. Another 3 wins &amp;...</td>\n",
              "      <td>49.0</td>\n",
              "      <td>5.7</td>\n",
              "      <td>97,785</td>\n",
              "    </tr>\n",
              "    <tr>\n",
              "      <th>3</th>\n",
              "      <td>tt0324941</td>\n",
              "      <td>101 Dalmatians 2: Patch's London Adventure</td>\n",
              "      <td>Being one of 101 takes its toll on Patch, who ...</td>\n",
              "      <td>movie</td>\n",
              "      <td>G</td>\n",
              "      <td>2002</td>\n",
              "      <td>21 Jan 2003</td>\n",
              "      <td>November 12, 2019</td>\n",
              "      <td>74 min</td>\n",
              "      <td>Animation, Adventure, Comedy, Family, Musical</td>\n",
              "      <td>Jim Kammerud, Brian Smith</td>\n",
              "      <td>Jim Kammerud (story), Dan Root (story), Garret...</td>\n",
              "      <td>Barry Bostwick, Jason Alexander, Martin Short,...</td>\n",
              "      <td>English</td>\n",
              "      <td>USA</td>\n",
              "      <td>5 wins &amp; 10 nominations.</td>\n",
              "      <td>NaN</td>\n",
              "      <td>5.8</td>\n",
              "      <td>7,434</td>\n",
              "    </tr>\n",
              "    <tr>\n",
              "      <th>4</th>\n",
              "      <td>tt0211181</td>\n",
              "      <td>102 Dalmatians</td>\n",
              "      <td>Cruella DeVil gets out of prison and goes afte...</td>\n",
              "      <td>movie</td>\n",
              "      <td>G</td>\n",
              "      <td>2000</td>\n",
              "      <td>22 Nov 2000</td>\n",
              "      <td>November 12, 2019</td>\n",
              "      <td>100 min</td>\n",
              "      <td>Adventure, Comedy, Family</td>\n",
              "      <td>Kevin Lima</td>\n",
              "      <td>Dodie Smith (novel), Kristen Buckley (story), ...</td>\n",
              "      <td>Glenn Close, Gérard Depardieu, Ioan Gruffudd, ...</td>\n",
              "      <td>English</td>\n",
              "      <td>USA, UK</td>\n",
              "      <td>Nominated for 1 Oscar. Another 1 win &amp; 7 nomin...</td>\n",
              "      <td>35.0</td>\n",
              "      <td>4.9</td>\n",
              "      <td>33,444</td>\n",
              "    </tr>\n",
              "  </tbody>\n",
              "</table>\n",
              "</div>"
            ],
            "text/plain": [
              "     imdb_id  ... imdb_votes\n",
              "0  tt0147800  ...    283,945\n",
              "1  tt7019028  ...        124\n",
              "2  tt0115433  ...     97,785\n",
              "3  tt0324941  ...      7,434\n",
              "4  tt0211181  ...     33,444\n",
              "\n",
              "[5 rows x 19 columns]"
            ]
          },
          "metadata": {},
          "execution_count": 9
        }
      ]
    },
    {
      "cell_type": "code",
      "metadata": {
        "id": "2kjwC3ojlC0l"
      },
      "source": [
        "#reorganize valid index now that some rows have been dropped\n",
        "#inplace=True changes the original df\n",
        "df.reset_index(drop=True,inplace=True)"
      ],
      "execution_count": 10,
      "outputs": []
    },
    {
      "cell_type": "code",
      "metadata": {
        "id": "-wtEgtys-14f"
      },
      "source": [
        "#Modeling items based on their descriptions (plot), using TFIDF\n",
        "from sklearn.feature_extraction.text import TfidfVectorizer\n",
        "tf = TfidfVectorizer(analyzer='word', ngram_range=(1, 1), min_df=0, stop_words='english')\n",
        "matrix = tf.fit_transform(df['plot'])"
      ],
      "execution_count": 11,
      "outputs": []
    },
    {
      "cell_type": "code",
      "metadata": {
        "id": "ZYq1vpqY_RD_"
      },
      "source": [
        "#Similarity across movies based on cosine similarity\n",
        "from sklearn.metrics.pairwise import linear_kernel\n",
        "\n",
        "cosine_similarities = linear_kernel(matrix,matrix)"
      ],
      "execution_count": 12,
      "outputs": []
    },
    {
      "cell_type": "code",
      "metadata": {
        "id": "aGooMP5I_Ypw"
      },
      "source": [
        "#mapping title to df index\n",
        "movie_title = df['title']\n",
        "indices = pd.Series(df.index, index=df['title'])\n"
      ],
      "execution_count": 13,
      "outputs": []
    },
    {
      "cell_type": "code",
      "metadata": {
        "id": "k0ivcxoyFFrp"
      },
      "source": [
        "#define a function for the recommendation; which will basically retrieve and rank the movies with the highest cosine similarity wrt a given one\n",
        "def movie_recommend(title):\n",
        "\n",
        "    idx = indices[title]\n",
        "\n",
        "    sim_scores = list(enumerate(cosine_similarities[idx]))\n",
        "\n",
        "    sim_scores = sorted(sim_scores, key=lambda x: x[1], reverse=True)\n",
        "    \n",
        "#Get the scores of the 15 most similar movies. Ignore the first movie.\n",
        "    sim_scores = sim_scores[1:15]\n",
        "\n",
        "    movie_indices = [i[0] for i in sim_scores]\n",
        "\n",
        "    return movie_title.iloc[movie_indices]"
      ],
      "execution_count": 14,
      "outputs": []
    },
    {
      "cell_type": "code",
      "metadata": {
        "colab": {
          "base_uri": "https://localhost:8080/"
        },
        "id": "Mh7yC3xcFnzU",
        "outputId": "5117b9a8-5bc1-4c72-c117-46bd6a27f4ee"
      },
      "source": [
        "#sample Top-5 recommendations \n",
        "movie_recommend(\"Frozen\").head(15)"
      ],
      "execution_count": 15,
      "outputs": [
        {
          "output_type": "execute_result",
          "data": {
            "text/plain": [
              "359            Lego Frozen Northern Lights\n",
              "248                              Frozen II\n",
              "18                     Alice in Wonderland\n",
              "589                              Snow Dogs\n",
              "487                                 On Ice\n",
              "409    Captain America: The Winter Soldier\n",
              "421           Marvel Super Hero Adventures\n",
              "460                                  Moana\n",
              "571                    Secret of the Wings\n",
              "15                                 Aladdin\n",
              "639                            Teen Spirit\n",
              "14                                 Aladdin\n",
              "735              The Prince and the Pauper\n",
              "703                   The Legend of Mor'du\n",
              "Name: title, dtype: object"
            ]
          },
          "metadata": {},
          "execution_count": 15
        }
      ]
    },
    {
      "cell_type": "code",
      "metadata": {
        "colab": {
          "base_uri": "https://localhost:8080/"
        },
        "id": "ZkzXzOC_XAvj",
        "outputId": "1febbcab-3061-4b35-a28c-4c0da3c251d1"
      },
      "source": [
        "#tweaking recommendation to resort \"similar ones (content)\" based on popularity of sorts (rating)\n",
        "recommendations = movie_recommend(\"Frozen\").head(15)\n",
        "new_order = df[df.index.isin(recommendations.index)]\n",
        "new_order.sort_values(\"imdb_rating\", ascending=False)['title']"
      ],
      "execution_count": 16,
      "outputs": [
        {
          "output_type": "execute_result",
          "data": {
            "text/plain": [
              "15                                 Aladdin\n",
              "409    Captain America: The Winter Soldier\n",
              "460                                  Moana\n",
              "487                                 On Ice\n",
              "18                     Alice in Wonderland\n",
              "571                    Secret of the Wings\n",
              "14                                 Aladdin\n",
              "248                              Frozen II\n",
              "703                   The Legend of Mor'du\n",
              "735              The Prince and the Pauper\n",
              "421           Marvel Super Hero Adventures\n",
              "359            Lego Frozen Northern Lights\n",
              "639                            Teen Spirit\n",
              "589                              Snow Dogs\n",
              "Name: title, dtype: object"
            ]
          },
          "metadata": {},
          "execution_count": 16
        }
      ]
    },
    {
      "cell_type": "code",
      "metadata": {
        "colab": {
          "base_uri": "https://localhost:8080/"
        },
        "id": "gSB_PSC1I8zJ",
        "outputId": "02c08650-0cab-41a6-fb9c-040bd02c5948"
      },
      "source": [
        "#sample Top-5 recommendations \n",
        "movie_recommend('Frozen').head(5)"
      ],
      "execution_count": 17,
      "outputs": [
        {
          "output_type": "execute_result",
          "data": {
            "text/plain": [
              "359    Lego Frozen Northern Lights\n",
              "248                      Frozen II\n",
              "18             Alice in Wonderland\n",
              "589                      Snow Dogs\n",
              "487                         On Ice\n",
              "Name: title, dtype: object"
            ]
          },
          "metadata": {},
          "execution_count": 17
        }
      ]
    },
    {
      "cell_type": "code",
      "metadata": {
        "id": "mqlIiqOpJcaI"
      },
      "source": [
        "#define a function for the recommendation; which will basically retrieve and rank based on Disney Score\n",
        "def movie_recommend_DisneyScore(title):\n",
        "\n",
        "    movie_indices = df.nlargest(5, ['metascore'])\n",
        "\n",
        "    return movie_indices['title']"
      ],
      "execution_count": 18,
      "outputs": []
    },
    {
      "cell_type": "code",
      "metadata": {
        "colab": {
          "base_uri": "https://localhost:8080/"
        },
        "id": "GdKRZWPgLGzq",
        "outputId": "bc7111c8-be69-44ba-ba82-817d36f3c195"
      },
      "source": [
        "#sample Top-5 recommendations \n",
        "movie_recommend_DisneyScore('Frozen').head(5)"
      ],
      "execution_count": 19,
      "outputs": [
        {
          "output_type": "execute_result",
          "data": {
            "text/plain": [
              "515                          Pinocchio\n",
              "223                           Fantasia\n",
              "541                        Ratatouille\n",
              "46                Beauty and the Beast\n",
              "590    Snow White and the Seven Dwarfs\n",
              "Name: title, dtype: object"
            ]
          },
          "metadata": {},
          "execution_count": 19
        }
      ]
    },
    {
      "cell_type": "code",
      "metadata": {
        "colab": {
          "base_uri": "https://localhost:8080/"
        },
        "id": "mwDEo0nTL_oP",
        "outputId": "59f601b3-a7ea-4544-bde2-5e04c6dfc444"
      },
      "source": [
        "movie_recommend_DisneyScore('Snow Dogs').head(5)"
      ],
      "execution_count": 20,
      "outputs": [
        {
          "output_type": "execute_result",
          "data": {
            "text/plain": [
              "515                          Pinocchio\n",
              "223                           Fantasia\n",
              "541                        Ratatouille\n",
              "46                Beauty and the Beast\n",
              "590    Snow White and the Seven Dwarfs\n",
              "Name: title, dtype: object"
            ]
          },
          "metadata": {},
          "execution_count": 20
        }
      ]
    },
    {
      "cell_type": "code",
      "metadata": {
        "id": "HFERvrtgL6ue"
      },
      "source": [
        "#define a function for the recommendation; which will basically retrieve and rank based on Average Rating\n",
        "def movie_recommend_rating(title):\n",
        "\n",
        "    movie_indices = df.nlargest(25, ['imdb_rating'])\n",
        "\n",
        "    return movie_indices['title']"
      ],
      "execution_count": 21,
      "outputs": []
    },
    {
      "cell_type": "code",
      "metadata": {
        "colab": {
          "base_uri": "https://localhost:8080/"
        },
        "id": "1Mnd0ih8L6g5",
        "outputId": "4659e04e-3543-47d7-bb72-5dcd14888f1d"
      },
      "source": [
        "#sample Top-5 recommendations \n",
        "movie_recommend_rating('Toy Story').head(15)"
      ],
      "execution_count": 22,
      "outputs": [
        {
          "output_type": "execute_result",
          "data": {
            "text/plain": [
              "63                                              Bluey\n",
              "694                            The Imagineering Story\n",
              "145                                     Gravity Falls\n",
              "199                              Dr. T, Lone Star Vet\n",
              "493                                  One Strange Rock\n",
              "384                       Lost Cities with Albert Lin\n",
              "612    Star Wars: Episode V - The Empire Strikes Back\n",
              "716                                   The Mandalorian\n",
              "758                                      The Simpsons\n",
              "605                Star Wars: Episode IV - A New Hope\n",
              "695                            The Incredible Dr. Pol\n",
              "480           Disney's Newsies: The Broadway Musical!\n",
              "533                                   Primal Survivor\n",
              "593                                          So Weird\n",
              "707                                     The Lion King\n",
              "Name: title, dtype: object"
            ]
          },
          "metadata": {},
          "execution_count": 22
        }
      ]
    },
    {
      "cell_type": "code",
      "metadata": {
        "colab": {
          "base_uri": "https://localhost:8080/"
        },
        "id": "gBGH-9nTMvYR",
        "outputId": "7b304484-988b-4dd3-ae43-9f87b1074303"
      },
      "source": [
        "movie_recommend_rating('Minions').head(5)"
      ],
      "execution_count": 23,
      "outputs": [
        {
          "output_type": "execute_result",
          "data": {
            "text/plain": [
              "63                      Bluey\n",
              "694    The Imagineering Story\n",
              "145             Gravity Falls\n",
              "199      Dr. T, Lone Star Vet\n",
              "493          One Strange Rock\n",
              "Name: title, dtype: object"
            ]
          },
          "metadata": {},
          "execution_count": 23
        }
      ]
    },
    {
      "cell_type": "code",
      "metadata": {
        "id": "prYw-DWTVm9E"
      },
      "source": [
        "#to handle votes that do not originally have numer format\n",
        "def convert_currency(val):\n",
        "    \"\"\"\n",
        "    Convert the string number value to a float\n",
        "     - Remove $\n",
        "     - Remove commas\n",
        "     - Convert to float type\n",
        "    \"\"\"\n",
        "    new_val = val.replace(',','').replace('$', '')\n",
        "    return float(new_val)"
      ],
      "execution_count": 24,
      "outputs": []
    },
    {
      "cell_type": "code",
      "metadata": {
        "id": "6LXA1eT5VqyT"
      },
      "source": [
        "#to handle votes that do not originally have numer format\n",
        "df['imdb_votes']=df['imdb_votes'].apply(convert_currency)"
      ],
      "execution_count": 25,
      "outputs": []
    },
    {
      "cell_type": "code",
      "metadata": {
        "id": "rJT-DksaTWiu"
      },
      "source": [
        "#define a function for the recommendation; which will basically retrieve and rank based on Popularity\n",
        "def movie_recommend_popularity(title):\n",
        "    movie_indices = df.nlargest(5, ['imdb_votes'])\n",
        "\n",
        "    return movie_indices['title']"
      ],
      "execution_count": 26,
      "outputs": []
    },
    {
      "cell_type": "code",
      "metadata": {
        "colab": {
          "base_uri": "https://localhost:8080/"
        },
        "id": "wtsPubO1Th0E",
        "outputId": "9665820c-08c8-485b-c8e6-4b5c3b38f385"
      },
      "source": [
        "#sample Top-5 recommendations \n",
        "movie_recommend_popularity('Frozen').head(5)"
      ],
      "execution_count": 27,
      "outputs": [
        {
          "output_type": "execute_result",
          "data": {
            "text/plain": [
              "417                                      The Avengers\n",
              "605                Star Wars: Episode IV - A New Hope\n",
              "612    Star Wars: Episode V - The Empire Strikes Back\n",
              "38                                             Avatar\n",
              "412                           Guardians of the Galaxy\n",
              "Name: title, dtype: object"
            ]
          },
          "metadata": {},
          "execution_count": 27
        }
      ]
    },
    {
      "cell_type": "code",
      "metadata": {
        "colab": {
          "base_uri": "https://localhost:8080/"
        },
        "id": "nXYa-NGIXrrL",
        "outputId": "62049e9e-50f9-4d52-a944-7a2d6af13718"
      },
      "source": [
        "movie_recommend_popularity('Minions').head(5)"
      ],
      "execution_count": 28,
      "outputs": [
        {
          "output_type": "execute_result",
          "data": {
            "text/plain": [
              "417                                      The Avengers\n",
              "605                Star Wars: Episode IV - A New Hope\n",
              "612    Star Wars: Episode V - The Empire Strikes Back\n",
              "38                                             Avatar\n",
              "412                           Guardians of the Galaxy\n",
              "Name: title, dtype: object"
            ]
          },
          "metadata": {},
          "execution_count": 28
        }
      ]
    },
    {
      "cell_type": "code",
      "metadata": {
        "colab": {
          "base_uri": "https://localhost:8080/",
          "height": 201
        },
        "id": "TRm748pTODMv",
        "outputId": "21b2cb50-5724-492d-81fe-e2bf679da16e"
      },
      "source": [
        "df[['title', 'imdb_votes','imdb_rating']].head()"
      ],
      "execution_count": 29,
      "outputs": [
        {
          "output_type": "execute_result",
          "data": {
            "text/html": [
              "<div>\n",
              "<style scoped>\n",
              "    .dataframe tbody tr th:only-of-type {\n",
              "        vertical-align: middle;\n",
              "    }\n",
              "\n",
              "    .dataframe tbody tr th {\n",
              "        vertical-align: top;\n",
              "    }\n",
              "\n",
              "    .dataframe thead th {\n",
              "        text-align: right;\n",
              "    }\n",
              "</style>\n",
              "<table border=\"1\" class=\"dataframe\">\n",
              "  <thead>\n",
              "    <tr style=\"text-align: right;\">\n",
              "      <th></th>\n",
              "      <th>title</th>\n",
              "      <th>imdb_votes</th>\n",
              "      <th>imdb_rating</th>\n",
              "    </tr>\n",
              "  </thead>\n",
              "  <tbody>\n",
              "    <tr>\n",
              "      <th>0</th>\n",
              "      <td>10 Things I Hate About You</td>\n",
              "      <td>283945.0</td>\n",
              "      <td>7.3</td>\n",
              "    </tr>\n",
              "    <tr>\n",
              "      <th>1</th>\n",
              "      <td>101 Dalmatian Street</td>\n",
              "      <td>124.0</td>\n",
              "      <td>6.2</td>\n",
              "    </tr>\n",
              "    <tr>\n",
              "      <th>2</th>\n",
              "      <td>101 Dalmatians</td>\n",
              "      <td>97785.0</td>\n",
              "      <td>5.7</td>\n",
              "    </tr>\n",
              "    <tr>\n",
              "      <th>3</th>\n",
              "      <td>101 Dalmatians 2: Patch's London Adventure</td>\n",
              "      <td>7434.0</td>\n",
              "      <td>5.8</td>\n",
              "    </tr>\n",
              "    <tr>\n",
              "      <th>4</th>\n",
              "      <td>102 Dalmatians</td>\n",
              "      <td>33444.0</td>\n",
              "      <td>4.9</td>\n",
              "    </tr>\n",
              "  </tbody>\n",
              "</table>\n",
              "</div>"
            ],
            "text/plain": [
              "                                        title  imdb_votes  imdb_rating\n",
              "0                  10 Things I Hate About You    283945.0          7.3\n",
              "1                        101 Dalmatian Street       124.0          6.2\n",
              "2                              101 Dalmatians     97785.0          5.7\n",
              "3  101 Dalmatians 2: Patch's London Adventure      7434.0          5.8\n",
              "4                              102 Dalmatians     33444.0          4.9"
            ]
          },
          "metadata": {},
          "execution_count": 29
        }
      ]
    },
    {
      "cell_type": "code",
      "metadata": {
        "colab": {
          "base_uri": "https://localhost:8080/",
          "height": 283
        },
        "id": "Y3cZWAYrOsb_",
        "outputId": "0d8f2a9a-c5b4-4c8c-abbe-cb378c5b6113"
      },
      "source": [
        "columnVotes = df[\"imdb_votes\"]\n",
        "max_votes = columnVotes.max()\n",
        "columnRating = df[\"imdb_rating\"]\n",
        "max_rating = columnRating.max()\n",
        "df[\"CombinedIMDB\"] = ((df[\"imdb_votes\"] /1225316.0) + (df[\"imdb_rating\"]/max_rating))\n",
        "df.head()"
      ],
      "execution_count": 30,
      "outputs": [
        {
          "output_type": "execute_result",
          "data": {
            "text/html": [
              "<div>\n",
              "<style scoped>\n",
              "    .dataframe tbody tr th:only-of-type {\n",
              "        vertical-align: middle;\n",
              "    }\n",
              "\n",
              "    .dataframe tbody tr th {\n",
              "        vertical-align: top;\n",
              "    }\n",
              "\n",
              "    .dataframe thead th {\n",
              "        text-align: right;\n",
              "    }\n",
              "</style>\n",
              "<table border=\"1\" class=\"dataframe\">\n",
              "  <thead>\n",
              "    <tr style=\"text-align: right;\">\n",
              "      <th></th>\n",
              "      <th>imdb_id</th>\n",
              "      <th>title</th>\n",
              "      <th>plot</th>\n",
              "      <th>type</th>\n",
              "      <th>rated</th>\n",
              "      <th>year</th>\n",
              "      <th>released_at</th>\n",
              "      <th>added_at</th>\n",
              "      <th>runtime</th>\n",
              "      <th>genre</th>\n",
              "      <th>director</th>\n",
              "      <th>writer</th>\n",
              "      <th>actors</th>\n",
              "      <th>language</th>\n",
              "      <th>country</th>\n",
              "      <th>awards</th>\n",
              "      <th>metascore</th>\n",
              "      <th>imdb_rating</th>\n",
              "      <th>imdb_votes</th>\n",
              "      <th>CombinedIMDB</th>\n",
              "    </tr>\n",
              "  </thead>\n",
              "  <tbody>\n",
              "    <tr>\n",
              "      <th>0</th>\n",
              "      <td>tt0147800</td>\n",
              "      <td>10 Things I Hate About You</td>\n",
              "      <td>A pretty, popular teenager can't go out on a d...</td>\n",
              "      <td>movie</td>\n",
              "      <td>PG-13</td>\n",
              "      <td>1999</td>\n",
              "      <td>31 Mar 1999</td>\n",
              "      <td>November 12, 2019</td>\n",
              "      <td>97 min</td>\n",
              "      <td>Comedy, Drama, Romance</td>\n",
              "      <td>Gil Junger</td>\n",
              "      <td>Karen McCullah, Kirsten Smith</td>\n",
              "      <td>Heath Ledger, Julia Stiles, Joseph Gordon-Levi...</td>\n",
              "      <td>English, French</td>\n",
              "      <td>USA</td>\n",
              "      <td>2 wins &amp; 13 nominations.</td>\n",
              "      <td>70.0</td>\n",
              "      <td>7.3</td>\n",
              "      <td>283945.0</td>\n",
              "      <td>0.984309</td>\n",
              "    </tr>\n",
              "    <tr>\n",
              "      <th>1</th>\n",
              "      <td>tt7019028</td>\n",
              "      <td>101 Dalmatian Street</td>\n",
              "      <td>This series follows the lives of Delilah and D...</td>\n",
              "      <td>series</td>\n",
              "      <td>NaN</td>\n",
              "      <td>2018–</td>\n",
              "      <td>25 Mar 2019</td>\n",
              "      <td>February 28, 2020</td>\n",
              "      <td>NaN</td>\n",
              "      <td>Animation, Comedy, Family</td>\n",
              "      <td>NaN</td>\n",
              "      <td>NaN</td>\n",
              "      <td>Josh Brener, Michaela Dietz, Bert Davis, Abiga...</td>\n",
              "      <td>English</td>\n",
              "      <td>UK, USA, Canada</td>\n",
              "      <td>NaN</td>\n",
              "      <td>NaN</td>\n",
              "      <td>6.2</td>\n",
              "      <td>124.0</td>\n",
              "      <td>0.639276</td>\n",
              "    </tr>\n",
              "    <tr>\n",
              "      <th>2</th>\n",
              "      <td>tt0115433</td>\n",
              "      <td>101 Dalmatians</td>\n",
              "      <td>An evil high-fashion designer plots to steal D...</td>\n",
              "      <td>movie</td>\n",
              "      <td>G</td>\n",
              "      <td>1996</td>\n",
              "      <td>27 Nov 1996</td>\n",
              "      <td>November 12, 2019</td>\n",
              "      <td>103 min</td>\n",
              "      <td>Adventure, Comedy, Crime, Family</td>\n",
              "      <td>Stephen Herek</td>\n",
              "      <td>Dodie Smith (novel), John Hughes (screenplay)</td>\n",
              "      <td>Glenn Close, Jeff Daniels, Joely Richardson, J...</td>\n",
              "      <td>English, Spanish</td>\n",
              "      <td>USA, UK</td>\n",
              "      <td>Nominated for 1 Golden Globe. Another 3 wins &amp;...</td>\n",
              "      <td>49.0</td>\n",
              "      <td>5.7</td>\n",
              "      <td>97785.0</td>\n",
              "      <td>0.667433</td>\n",
              "    </tr>\n",
              "    <tr>\n",
              "      <th>3</th>\n",
              "      <td>tt0324941</td>\n",
              "      <td>101 Dalmatians 2: Patch's London Adventure</td>\n",
              "      <td>Being one of 101 takes its toll on Patch, who ...</td>\n",
              "      <td>movie</td>\n",
              "      <td>G</td>\n",
              "      <td>2002</td>\n",
              "      <td>21 Jan 2003</td>\n",
              "      <td>November 12, 2019</td>\n",
              "      <td>74 min</td>\n",
              "      <td>Animation, Adventure, Comedy, Family, Musical</td>\n",
              "      <td>Jim Kammerud, Brian Smith</td>\n",
              "      <td>Jim Kammerud (story), Dan Root (story), Garret...</td>\n",
              "      <td>Barry Bostwick, Jason Alexander, Martin Short,...</td>\n",
              "      <td>English</td>\n",
              "      <td>USA</td>\n",
              "      <td>5 wins &amp; 10 nominations.</td>\n",
              "      <td>NaN</td>\n",
              "      <td>5.8</td>\n",
              "      <td>7434.0</td>\n",
              "      <td>0.604005</td>\n",
              "    </tr>\n",
              "    <tr>\n",
              "      <th>4</th>\n",
              "      <td>tt0211181</td>\n",
              "      <td>102 Dalmatians</td>\n",
              "      <td>Cruella DeVil gets out of prison and goes afte...</td>\n",
              "      <td>movie</td>\n",
              "      <td>G</td>\n",
              "      <td>2000</td>\n",
              "      <td>22 Nov 2000</td>\n",
              "      <td>November 12, 2019</td>\n",
              "      <td>100 min</td>\n",
              "      <td>Adventure, Comedy, Family</td>\n",
              "      <td>Kevin Lima</td>\n",
              "      <td>Dodie Smith (novel), Kristen Buckley (story), ...</td>\n",
              "      <td>Glenn Close, Gérard Depardieu, Ioan Gruffudd, ...</td>\n",
              "      <td>English</td>\n",
              "      <td>USA, UK</td>\n",
              "      <td>Nominated for 1 Oscar. Another 1 win &amp; 7 nomin...</td>\n",
              "      <td>35.0</td>\n",
              "      <td>4.9</td>\n",
              "      <td>33444.0</td>\n",
              "      <td>0.532449</td>\n",
              "    </tr>\n",
              "  </tbody>\n",
              "</table>\n",
              "</div>"
            ],
            "text/plain": [
              "     imdb_id  ... CombinedIMDB\n",
              "0  tt0147800  ...     0.984309\n",
              "1  tt7019028  ...     0.639276\n",
              "2  tt0115433  ...     0.667433\n",
              "3  tt0324941  ...     0.604005\n",
              "4  tt0211181  ...     0.532449\n",
              "\n",
              "[5 rows x 20 columns]"
            ]
          },
          "metadata": {},
          "execution_count": 30
        }
      ]
    },
    {
      "cell_type": "code",
      "metadata": {
        "id": "o-w2hnyFPx5t"
      },
      "source": [
        "#define a function for the recommendation; which will basically retrieve and rank based on combined info\n",
        "def movie_recommend_popularity(title):\n",
        "    movie_indices = df.nlargest(5, ['CombinedIMDB'])\n",
        "\n",
        "    return movie_indices['title']"
      ],
      "execution_count": 31,
      "outputs": []
    },
    {
      "cell_type": "code",
      "metadata": {
        "colab": {
          "base_uri": "https://localhost:8080/"
        },
        "id": "mqBTKROeP6Bm",
        "outputId": "a2130611-6434-4dc0-e01f-4e05d5570c39"
      },
      "source": [
        "#sample Top-5 recommendations \n",
        "movie_recommend_popularity('Toy Story').head(5)"
      ],
      "execution_count": 32,
      "outputs": [
        {
          "output_type": "execute_result",
          "data": {
            "text/plain": [
              "605                Star Wars: Episode IV - A New Hope\n",
              "417                                      The Avengers\n",
              "612    Star Wars: Episode V - The Empire Strikes Back\n",
              "38                                             Avatar\n",
              "412                           Guardians of the Galaxy\n",
              "Name: title, dtype: object"
            ]
          },
          "metadata": {},
          "execution_count": 32
        }
      ]
    },
    {
      "cell_type": "code",
      "metadata": {
        "id": "Yf0QradUxxIR"
      },
      "source": [
        ""
      ],
      "execution_count": 32,
      "outputs": []
    }
  ]
}